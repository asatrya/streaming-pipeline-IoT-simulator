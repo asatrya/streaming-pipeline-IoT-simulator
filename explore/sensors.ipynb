{
 "cells": [
  {
   "cell_type": "markdown",
   "metadata": {
    "deletable": true,
    "editable": true
   },
   "source": [
    "## exploring average speeds sorted descending"
   ]
  },
  {
   "cell_type": "code",
   "execution_count": 1,
   "metadata": {
    "collapsed": true,
    "deletable": true,
    "editable": true
   },
   "outputs": [],
   "source": [
    "%%bq query --name ts1\n",
    "SELECT freeway, AVG(speed) as av\n",
    "FROM iot.sensorsnew\n",
    "GROUP BY freeway\n",
    "ORDER BY av DESC"
   ]
  },
  {
   "cell_type": "code",
   "execution_count": 2,
   "metadata": {
    "collapsed": false,
    "deletable": true,
    "editable": true
   },
   "outputs": [
    {
     "data": {
      "text/html": [
       "\n",
       "    <div class=\"bqtv\" id=\"1_153425334769\"><table><tr><th>freeway</th><th>av</th></tr><tr><td>805</td><td>73.6583921419</td></tr><tr><td>163</td><td>71.6885391048</td></tr><tr><td>5</td><td>71.6667372962</td></tr><tr><td>8</td><td>71.3848109005</td></tr><tr><td>15</td><td>68.7208722741</td></tr></table></div>\n",
       "    <br />(rows: 5, time: 1.4s,     6KB processed, job: job_WusVIWjNTbJFDnrztueK5TFQ727Q)<br />\n",
       "    <script src=\"/static/components/requirejs/require.js\"></script>\n",
       "    <script>\n",
       "      require.config({\n",
       "        paths: {\n",
       "          base: '/static/base',\n",
       "          d3: '//cdnjs.cloudflare.com/ajax/libs/d3/3.4.13/d3',\n",
       "          plotly: 'https://cdn.plot.ly/plotly-1.5.1.min.js?noext',\n",
       "          jquery: '//ajax.googleapis.com/ajax/libs/jquery/2.0.0/jquery.min'\n",
       "        },\n",
       "        map: {\n",
       "          '*': {\n",
       "            datalab: 'nbextensions/gcpdatalab'\n",
       "          }\n",
       "        },\n",
       "        shim: {\n",
       "          plotly: {\n",
       "            deps: ['d3', 'jquery'],\n",
       "            exports: 'plotly'\n",
       "          }\n",
       "        }\n",
       "      });\n",
       "\n",
       "      require(['datalab/charting', 'datalab/element!1_153425334769', 'base/js/events',\n",
       "          'datalab/style!/nbextensions/gcpdatalab/charting.css'],\n",
       "        function(charts, dom, events) {\n",
       "          charts.render('gcharts', dom, events, 'table', [], {\"rows\": [{\"c\": [{\"v\": \"805\"}, {\"v\": 73.65839214190348}]}, {\"c\": [{\"v\": \"163\"}, {\"v\": 71.68853910477127}]}, {\"c\": [{\"v\": \"5\"}, {\"v\": 71.6667372961519}]}, {\"c\": [{\"v\": \"8\"}, {\"v\": 71.38481090051528}]}, {\"c\": [{\"v\": \"15\"}, {\"v\": 68.72087227414329}]}], \"cols\": [{\"type\": \"string\", \"id\": \"freeway\", \"label\": \"freeway\"}, {\"type\": \"number\", \"id\": \"av\", \"label\": \"av\"}]},\n",
       "            {\n",
       "              pageSize: 25,\n",
       "              cssClassNames:  {\n",
       "                tableRow: 'gchart-table-row',\n",
       "                headerRow: 'gchart-table-headerrow',\n",
       "                oddTableRow: 'gchart-table-oddrow',\n",
       "                selectedTableRow: 'gchart-table-selectedrow',\n",
       "                hoverTableRow: 'gchart-table-hoverrow',\n",
       "                tableCell: 'gchart-table-cell',\n",
       "                headerCell: 'gchart-table-headercell',\n",
       "                rowNumberCell: 'gchart-table-rownumcell'\n",
       "              }\n",
       "            },\n",
       "            {source_index: 0, fields: 'freeway,av'},\n",
       "            0,\n",
       "            5);\n",
       "        }\n",
       "      );\n",
       "    </script>\n",
       "  "
      ],
      "text/plain": [
       "QueryResultsTable job_WusVIWjNTbJFDnrztueK5TFQ727Q"
      ]
     },
     "execution_count": 2,
     "metadata": {},
     "output_type": "execute_result"
    }
   ],
   "source": [
    "%bq execute -q ts1"
   ]
  },
  {
   "cell_type": "code",
   "execution_count": 3,
   "metadata": {
    "collapsed": false,
    "deletable": true,
    "editable": true
   },
   "outputs": [
    {
     "name": "stdout",
     "output_type": "stream",
     "text": [
      "usage: %%chart line [-h] [-f FIELDS] -d DATA\n",
      "\n",
      "Generate a line chart.\n",
      "\n",
      "optional arguments:\n",
      "  -h, --help            show this help message and exit\n",
      "  -f FIELDS, --fields FIELDS\n",
      "                        The field(s) to include in the chart\n",
      "  -d DATA, --data DATA  The name of the variable referencing the Table or\n",
      "                        Query to chart\n",
      "None\n"
     ]
    }
   ],
   "source": [
    "%%chart line --help"
   ]
  },
  {
   "cell_type": "code",
   "execution_count": 4,
   "metadata": {
    "collapsed": false,
    "deletable": true,
    "editable": true
   },
   "outputs": [
    {
     "name": "stdout",
     "output_type": "stream",
     "text": [
      "usage: %%chart columns [-h] [-f FIELDS] -d DATA\n",
      "\n",
      "Generate a columns chart.\n",
      "\n",
      "optional arguments:\n",
      "  -h, --help            show this help message and exit\n",
      "  -f FIELDS, --fields FIELDS\n",
      "                        The field(s) to include in the chart\n",
      "  -d DATA, --data DATA  The name of the variable referencing the Table or\n",
      "                        Query to chart\n",
      "None\n"
     ]
    }
   ],
   "source": [
    "%%chart columns --help"
   ]
  },
  {
   "cell_type": "code",
   "execution_count": 5,
   "metadata": {
    "collapsed": false,
    "deletable": true,
    "editable": true
   },
   "outputs": [
    {
     "data": {
      "text/html": [
       "\n",
       "    <div class=\"bqgc-container\">\n",
       "      \n",
       "      <div class=\"bqgc \" id=\"1_153425336383\">\n",
       "      </div>\n",
       "    </div>\n",
       "    <script src=\"/static/components/requirejs/require.js\"></script>\n",
       "    <script>\n",
       "\n",
       "      require.config({\n",
       "        paths: {\n",
       "          base: '/static/base',\n",
       "          d3: '//cdnjs.cloudflare.com/ajax/libs/d3/3.4.13/d3',\n",
       "          plotly: 'https://cdn.plot.ly/plotly-1.5.1.min.js?noext',\n",
       "          jquery: '//ajax.googleapis.com/ajax/libs/jquery/2.0.0/jquery.min'\n",
       "        },\n",
       "        map: {\n",
       "          '*': {\n",
       "            datalab: 'nbextensions/gcpdatalab'\n",
       "          }\n",
       "        },\n",
       "        shim: {\n",
       "          plotly: {\n",
       "            deps: ['d3', 'jquery'],\n",
       "            exports: 'plotly'\n",
       "          }\n",
       "        }\n",
       "      });\n",
       "\n",
       "      require(['datalab/charting',\n",
       "               'datalab/element!1_153425336383',\n",
       "               'base/js/events',\n",
       "               'datalab/style!/nbextensions/gcpdatalab/charting.css'\n",
       "              ],\n",
       "        function(charts, dom, events) {\n",
       "          charts.render(\n",
       "              'gcharts',\n",
       "              dom,\n",
       "              events,\n",
       "              'columns',\n",
       "              [],\n",
       "              {\"rows\": [{\"c\": [{\"v\": \"805\"}, {\"v\": 73.65839214190348}]}, {\"c\": [{\"v\": \"163\"}, {\"v\": 71.68853910477127}]}, {\"c\": [{\"v\": \"5\"}, {\"v\": 71.6667372961519}]}, {\"c\": [{\"v\": \"8\"}, {\"v\": 71.38481090051528}]}, {\"c\": [{\"v\": \"15\"}, {\"v\": 68.72087227414329}]}], \"cols\": [{\"type\": \"string\", \"id\": \"freeway\", \"label\": \"freeway\"}, {\"type\": \"number\", \"id\": \"av\", \"label\": \"av\"}]},\n",
       "              {},\n",
       "              {\"fields\": \"freeway,av\", \"source_index\": 0, \"name\": 0},\n",
       "              0,\n",
       "              5);\n",
       "          }\n",
       "        );\n",
       "    </script>\n",
       "  "
      ],
      "text/plain": [
       "<IPython.core.display.HTML object>"
      ]
     },
     "execution_count": 5,
     "metadata": {},
     "output_type": "execute_result"
    },
    {
     "data": {
      "image/png": "[encoded data removed]"
     },
     "metadata": {
      "source_id": "1_153425336383"
     },
     "output_type": "display_data"
    }
   ],
   "source": [
    "%%chart columns --data ts1 --fields freeway,av"
   ]
  },
  {
   "cell_type": "markdown",
   "metadata": {
    "deletable": true,
    "editable": true
   },
   "source": [
    "## exploring evolution of average speed on fastest highway"
   ]
  },
  {
   "cell_type": "code",
   "execution_count": 6,
   "metadata": {
    "collapsed": true,
    "deletable": true,
    "editable": true
   },
   "outputs": [],
   "source": [
    "%%bq query -n ts2\n",
    "SELECT\n",
    "  speed,\n",
    "  window_end AS time\n",
    "FROM\n",
    "  iot.sensorsnew\n",
    "WHERE\n",
    "  freeway='805'"
   ]
  },
  {
   "cell_type": "code",
   "execution_count": 7,
   "metadata": {
    "collapsed": false,
    "deletable": true,
    "editable": true
   },
   "outputs": [
    {
     "data": {
      "text/html": [
       "\n",
       "    <div class=\"bqtv\" id=\"2_153425338452\"><table><tr><th>speed</th><th>time</th></tr><tr><td>74.6734693878</td><td>2018-08-13 20:27:55</td></tr><tr><td>74.4489795918</td><td>2018-08-13 20:23:10</td></tr><tr><td>73.3653061224</td><td>2018-08-13 20:25:50</td></tr><tr><td>73.4724489796</td><td>2018-08-13 20:25:45</td></tr><tr><td>71.6132653061</td><td>2018-08-13 20:27:15</td></tr><tr><td>73.0051020408</td><td>2018-08-13 20:27:05</td></tr><tr><td>75.4571428571</td><td>2018-08-13 20:23:50</td></tr><tr><td>73.3612244898</td><td>2018-08-13 20:25:40</td></tr><tr><td>73.0979591837</td><td>2018-08-13 20:26:00</td></tr><tr><td>73.4704081633</td><td>2018-08-13 20:28:30</td></tr><tr><td>74.7714285714</td><td>2018-08-13 20:22:55</td></tr><tr><td>74.1704081633</td><td>2018-08-13 20:24:30</td></tr><tr><td>72.1897959184</td><td>2018-08-13 20:29:15</td></tr><tr><td>74.312244898</td><td>2018-08-13 20:22:20</td></tr><tr><td>73.3326530612</td><td>2018-08-13 20:25:35</td></tr><tr><td>74.8642857143</td><td>2018-08-13 20:28:00</td></tr><tr><td>73.3642857143</td><td>2018-08-13 20:21:40</td></tr><tr><td>75.2051020408</td><td>2018-08-13 20:24:00</td></tr><tr><td>74.1785714286</td><td>2018-08-13 20:28:15</td></tr><tr><td>72.9326530612</td><td>2018-08-13 20:29:00</td></tr><tr><td>70.3183673469</td><td>2018-08-13 20:27:10</td></tr><tr><td>73.4408163265</td><td>2018-08-13 20:25:20</td></tr><tr><td>73.7306122449</td><td>2018-08-13 20:28:25</td></tr><tr><td>74.837755102</td><td>2018-08-13 20:22:30</td></tr><tr><td>75.4040816327</td><td>2018-08-13 20:23:45</td></tr></table></div>\n",
       "    <br />(rows: 107, time: 1.5s,    10KB processed, job: job_ftJl6vDB5OWqcxK--LFZl7pzXt5d)<br />\n",
       "    <script src=\"/static/components/requirejs/require.js\"></script>\n",
       "    <script>\n",
       "      require.config({\n",
       "        paths: {\n",
       "          base: '/static/base',\n",
       "          d3: '//cdnjs.cloudflare.com/ajax/libs/d3/3.4.13/d3',\n",
       "          plotly: 'https://cdn.plot.ly/plotly-1.5.1.min.js?noext',\n",
       "          jquery: '//ajax.googleapis.com/ajax/libs/jquery/2.0.0/jquery.min'\n",
       "        },\n",
       "        map: {\n",
       "          '*': {\n",
       "            datalab: 'nbextensions/gcpdatalab'\n",
       "          }\n",
       "        },\n",
       "        shim: {\n",
       "          plotly: {\n",
       "            deps: ['d3', 'jquery'],\n",
       "            exports: 'plotly'\n",
       "          }\n",
       "        }\n",
       "      });\n",
       "\n",
       "      require(['datalab/charting', 'datalab/element!2_153425338452', 'base/js/events',\n",
       "          'datalab/style!/nbextensions/gcpdatalab/charting.css'],\n",
       "        function(charts, dom, events) {\n",
       "          charts.render('gcharts', dom, events, 'paged_table', [], {\"rows\": [{\"c\": [{\"v\": 74.6734693877551}, {\"v\": \"2018-08-13T20:27:55\"}]}, {\"c\": [{\"v\": 74.44897959183673}, {\"v\": \"2018-08-13T20:23:10\"}]}, {\"c\": [{\"v\": 73.36530612244898}, {\"v\": \"2018-08-13T20:25:50\"}]}, {\"c\": [{\"v\": 73.47244897959182}, {\"v\": \"2018-08-13T20:25:45\"}]}, {\"c\": [{\"v\": 71.61326530612243}, {\"v\": \"2018-08-13T20:27:15\"}]}, {\"c\": [{\"v\": 73.00510204081631}, {\"v\": \"2018-08-13T20:27:05\"}]}, {\"c\": [{\"v\": 75.45714285714286}, {\"v\": \"2018-08-13T20:23:50\"}]}, {\"c\": [{\"v\": 73.36122448979593}, {\"v\": \"2018-08-13T20:25:40\"}]}, {\"c\": [{\"v\": 73.09795918367347}, {\"v\": \"2018-08-13T20:26:00\"}]}, {\"c\": [{\"v\": 73.47040816326532}, {\"v\": \"2018-08-13T20:28:30\"}]}, {\"c\": [{\"v\": 74.77142857142857}, {\"v\": \"2018-08-13T20:22:55\"}]}, {\"c\": [{\"v\": 74.17040816326526}, {\"v\": \"2018-08-13T20:24:30\"}]}, {\"c\": [{\"v\": 72.18979591836734}, {\"v\": \"2018-08-13T20:29:15\"}]}, {\"c\": [{\"v\": 74.31224489795919}, {\"v\": \"2018-08-13T20:22:20\"}]}, {\"c\": [{\"v\": 73.3326530612245}, {\"v\": \"2018-08-13T20:25:35\"}]}, {\"c\": [{\"v\": 74.86428571428569}, {\"v\": \"2018-08-13T20:28:00\"}]}, {\"c\": [{\"v\": 73.36428571428573}, {\"v\": \"2018-08-13T20:21:40\"}]}, {\"c\": [{\"v\": 75.20510204081633}, {\"v\": \"2018-08-13T20:24:00\"}]}, {\"c\": [{\"v\": 74.17857142857144}, {\"v\": \"2018-08-13T20:28:15\"}]}, {\"c\": [{\"v\": 72.93265306122447}, {\"v\": \"2018-08-13T20:29:00\"}]}, {\"c\": [{\"v\": 70.31836734693876}, {\"v\": \"2018-08-13T20:27:10\"}]}, {\"c\": [{\"v\": 73.44081632653055}, {\"v\": \"2018-08-13T20:25:20\"}]}, {\"c\": [{\"v\": 73.73061224489796}, {\"v\": \"2018-08-13T20:28:25\"}]}, {\"c\": [{\"v\": 74.83775510204079}, {\"v\": \"2018-08-13T20:22:30\"}]}, {\"c\": [{\"v\": 75.40408163265305}, {\"v\": \"2018-08-13T20:23:45\"}]}], \"cols\": [{\"type\": \"number\", \"id\": \"speed\", \"label\": \"speed\"}, {\"type\": \"timestamp\", \"id\": \"time\", \"label\": \"time\"}]},\n",
       "            {\n",
       "              pageSize: 25,\n",
       "              cssClassNames:  {\n",
       "                tableRow: 'gchart-table-row',\n",
       "                headerRow: 'gchart-table-headerrow',\n",
       "                oddTableRow: 'gchart-table-oddrow',\n",
       "                selectedTableRow: 'gchart-table-selectedrow',\n",
       "                hoverTableRow: 'gchart-table-hoverrow',\n",
       "                tableCell: 'gchart-table-cell',\n",
       "                headerCell: 'gchart-table-headercell',\n",
       "                rowNumberCell: 'gchart-table-rownumcell'\n",
       "              }\n",
       "            },\n",
       "            {source_index: 1, fields: 'speed,time'},\n",
       "            0,\n",
       "            107);\n",
       "        }\n",
       "      );\n",
       "    </script>\n",
       "  "
      ],
      "text/plain": [
       "QueryResultsTable job_ftJl6vDB5OWqcxK--LFZl7pzXt5d"
      ]
     },
     "execution_count": 7,
     "metadata": {},
     "output_type": "execute_result"
    }
   ],
   "source": [
    "%%bq execute -q ts2"
   ]
  },
  {
   "cell_type": "code",
   "execution_count": 8,
   "metadata": {
    "collapsed": false,
    "deletable": true,
    "editable": true
   },
   "outputs": [
    {
     "data": {
      "text/html": [
       "\n",
       "    <div class=\"bqgc-container\">\n",
       "      \n",
       "      <div class=\"bqgc \" id=\"2_153425339202\">\n",
       "      </div>\n",
       "    </div>\n",
       "    <script src=\"/static/components/requirejs/require.js\"></script>\n",
       "    <script>\n",
       "\n",
       "      require.config({\n",
       "        paths: {\n",
       "          base: '/static/base',\n",
       "          d3: '//cdnjs.cloudflare.com/ajax/libs/d3/3.4.13/d3',\n",
       "          plotly: 'https://cdn.plot.ly/plotly-1.5.1.min.js?noext',\n",
       "          jquery: '//ajax.googleapis.com/ajax/libs/jquery/2.0.0/jquery.min'\n",
       "        },\n",
       "        map: {\n",
       "          '*': {\n",
       "            datalab: 'nbextensions/gcpdatalab'\n",
       "          }\n",
       "        },\n",
       "        shim: {\n",
       "          plotly: {\n",
       "            deps: ['d3', 'jquery'],\n",
       "            exports: 'plotly'\n",
       "          }\n",
       "        }\n",
       "      });\n",
       "\n",
       "      require(['datalab/charting',\n",
       "               'datalab/element!2_153425339202',\n",
       "               'base/js/events',\n",
       "               'datalab/style!/nbextensions/gcpdatalab/charting.css'\n",
       "              ],\n",
       "        function(charts, dom, events) {\n",
       "          charts.render(\n",
       "              'gcharts',\n",
       "              dom,\n",
       "              events,\n",
       "              'annotation',\n",
       "              [],\n",
       "              {\"rows\": [{\"c\": [{\"v\": \"2018-08-13T20:27:55\"}, {\"v\": 74.6734693877551}]}, {\"c\": [{\"v\": \"2018-08-13T20:23:10\"}, {\"v\": 74.44897959183673}]}, {\"c\": [{\"v\": \"2018-08-13T20:25:50\"}, {\"v\": 73.36530612244898}]}, {\"c\": [{\"v\": \"2018-08-13T20:25:45\"}, {\"v\": 73.47244897959182}]}, {\"c\": [{\"v\": \"2018-08-13T20:27:15\"}, {\"v\": 71.61326530612243}]}, {\"c\": [{\"v\": \"2018-08-13T20:27:05\"}, {\"v\": 73.00510204081631}]}, {\"c\": [{\"v\": \"2018-08-13T20:23:50\"}, {\"v\": 75.45714285714286}]}, {\"c\": [{\"v\": \"2018-08-13T20:25:40\"}, {\"v\": 73.36122448979593}]}, {\"c\": [{\"v\": \"2018-08-13T20:26:00\"}, {\"v\": 73.09795918367347}]}, {\"c\": [{\"v\": \"2018-08-13T20:28:30\"}, {\"v\": 73.47040816326532}]}, {\"c\": [{\"v\": \"2018-08-13T20:22:55\"}, {\"v\": 74.77142857142857}]}, {\"c\": [{\"v\": \"2018-08-13T20:24:30\"}, {\"v\": 74.17040816326526}]}, {\"c\": [{\"v\": \"2018-08-13T20:29:15\"}, {\"v\": 72.18979591836734}]}, {\"c\": [{\"v\": \"2018-08-13T20:22:20\"}, {\"v\": 74.31224489795919}]}, {\"c\": [{\"v\": \"2018-08-13T20:25:35\"}, {\"v\": 73.3326530612245}]}, {\"c\": [{\"v\": \"2018-08-13T20:28:00\"}, {\"v\": 74.86428571428569}]}, {\"c\": [{\"v\": \"2018-08-13T20:21:40\"}, {\"v\": 73.36428571428573}]}, {\"c\": [{\"v\": \"2018-08-13T20:24:00\"}, {\"v\": 75.20510204081633}]}, {\"c\": [{\"v\": \"2018-08-13T20:28:15\"}, {\"v\": 74.17857142857144}]}, {\"c\": [{\"v\": \"2018-08-13T20:29:00\"}, {\"v\": 72.93265306122447}]}, {\"c\": [{\"v\": \"2018-08-13T20:27:10\"}, {\"v\": 70.31836734693876}]}, {\"c\": [{\"v\": \"2018-08-13T20:25:20\"}, {\"v\": 73.44081632653055}]}, {\"c\": [{\"v\": \"2018-08-13T20:28:25\"}, {\"v\": 73.73061224489796}]}, {\"c\": [{\"v\": \"2018-08-13T20:22:30\"}, {\"v\": 74.83775510204079}]}, {\"c\": [{\"v\": \"2018-08-13T20:23:45\"}, {\"v\": 75.40408163265305}]}, {\"c\": [{\"v\": \"2018-08-13T20:26:30\"}, {\"v\": 73.41734693877551}]}, {\"c\": [{\"v\": \"2018-08-13T20:21:35\"}, {\"v\": 73.71326530612242}]}, {\"c\": [{\"v\": \"2018-08-13T20:21:50\"}, {\"v\": 72.90918367346939}]}, {\"c\": [{\"v\": \"2018-08-13T20:23:25\"}, {\"v\": 74.93571428571428}]}, {\"c\": [{\"v\": \"2018-08-13T20:23:40\"}, {\"v\": 75.15306122448979}]}, {\"c\": [{\"v\": \"2018-08-13T20:26:20\"}, {\"v\": 73.40408163265306}]}, {\"c\": [{\"v\": \"2018-08-13T20:27:00\"}, {\"v\": 73.00816326530614}]}, {\"c\": [{\"v\": \"2018-08-13T20:26:05\"}, {\"v\": 72.66836734693877}]}, {\"c\": [{\"v\": \"2018-08-13T20:21:10\"}, {\"v\": 72.61122448979596}]}, {\"c\": [{\"v\": \"2018-08-13T20:28:35\"}, {\"v\": 73.38979591836737}]}, {\"c\": [{\"v\": \"2018-08-13T20:24:20\"}, {\"v\": 74.36530612244896}]}, {\"c\": [{\"v\": \"2018-08-13T20:27:30\"}, {\"v\": 73.81020408163266}]}, {\"c\": [{\"v\": \"2018-08-13T20:25:25\"}, {\"v\": 73.43673469387757}]}, {\"c\": [{\"v\": \"2018-08-13T20:24:40\"}, {\"v\": 73.82551020408162}]}, {\"c\": [{\"v\": \"2018-08-13T20:26:25\"}, {\"v\": 73.61938775510203}]}, {\"c\": [{\"v\": \"2018-08-13T20:23:35\"}, {\"v\": 75.11122448979593}]}, {\"c\": [{\"v\": \"2018-08-13T20:21:20\"}, {\"v\": 73.58571428571427}]}, {\"c\": [{\"v\": \"2018-08-13T20:24:25\"}, {\"v\": 74.25408163265308}]}, {\"c\": [{\"v\": \"2018-08-13T20:25:55\"}, {\"v\": 73.41836734693877}]}, {\"c\": [{\"v\": \"2018-08-13T20:23:55\"}, {\"v\": 75.46326530612242}]}, {\"c\": [{\"v\": \"2018-08-13T20:28:05\"}, {\"v\": 74.80408163265305}]}, {\"c\": [{\"v\": \"2018-08-13T20:22:45\"}, {\"v\": 74.58265306122448}]}, {\"c\": [{\"v\": \"2018-08-13T20:21:15\"}, {\"v\": 73.29591836734691}]}, {\"c\": [{\"v\": \"2018-08-13T20:26:50\"}, {\"v\": 72.78775510204082}]}, {\"c\": [{\"v\": \"2018-08-13T20:26:15\"}, {\"v\": 73.01836734693877}]}, {\"c\": [{\"v\": \"2018-08-13T20:28:55\"}, {\"v\": 73.32244897959185}]}, {\"c\": [{\"v\": \"2018-08-13T20:22:15\"}, {\"v\": 74.08061224489795}]}, {\"c\": [{\"v\": \"2018-08-13T20:23:20\"}, {\"v\": 74.85102040816325}]}, {\"c\": [{\"v\": \"2018-08-13T20:22:40\"}, {\"v\": 74.55816326530612}]}, {\"c\": [{\"v\": \"2018-08-13T20:28:20\"}, {\"v\": 74.1387755102041}]}, {\"c\": [{\"v\": \"2018-08-13T20:28:45\"}, {\"v\": 73.8173469387755}]}, {\"c\": [{\"v\": \"2018-08-13T20:29:05\"}, {\"v\": 72.62142857142855}]}, {\"c\": [{\"v\": \"2018-08-13T20:27:50\"}, {\"v\": 74.66734693877551}]}, {\"c\": [{\"v\": \"2018-08-13T20:21:45\"}, {\"v\": 73.15204081632653}]}, {\"c\": [{\"v\": \"2018-08-13T20:27:45\"}, {\"v\": 74.2142857142857}]}, {\"c\": [{\"v\": \"2018-08-13T20:23:00\"}, {\"v\": 74.66836734693877}]}, {\"c\": [{\"v\": \"2018-08-13T20:30:00\"}, {\"v\": 72.08367346938775}]}, {\"c\": [{\"v\": \"2018-08-13T20:24:35\"}, {\"v\": 74.10204081632654}]}, {\"c\": [{\"v\": \"2018-08-13T20:22:35\"}, {\"v\": 74.69693877551019}]}, {\"c\": [{\"v\": \"2018-08-13T20:29:35\"}, {\"v\": 72.404081632653}]}, {\"c\": [{\"v\": \"2018-08-13T20:22:00\"}, {\"v\": 73.04693877551021}]}, {\"c\": [{\"v\": \"2018-08-13T20:24:50\"}, {\"v\": 74.2295918367347}]}, {\"c\": [{\"v\": \"2018-08-13T20:25:30\"}, {\"v\": 73.28163265306124}]}, {\"c\": [{\"v\": \"2018-08-13T20:25:05\"}, {\"v\": 73.60408163265305}]}, {\"c\": [{\"v\": \"2018-08-13T20:27:25\"}, {\"v\": 73.28673469387753}]}, {\"c\": [{\"v\": \"2018-08-13T20:27:20\"}, {\"v\": 72.78979591836733}]}, {\"c\": [{\"v\": \"2018-08-13T20:23:30\"}, {\"v\": 74.88877551020407}]}, {\"c\": [{\"v\": \"2018-08-13T20:29:50\"}, {\"v\": 72.2234693877551}]}, {\"c\": [{\"v\": \"2018-08-13T20:28:50\"}, {\"v\": 73.45204081632653}]}, {\"c\": [{\"v\": \"2018-08-13T20:21:55\"}, {\"v\": 72.87244897959182}]}, {\"c\": [{\"v\": \"2018-08-13T20:29:30\"}, {\"v\": 72.54183673469386}]}, {\"c\": [{\"v\": \"2018-08-13T20:24:05\"}, {\"v\": 74.84591836734693}]}, {\"c\": [{\"v\": \"2018-08-13T20:29:45\"}, {\"v\": 72.42244897959186}]}, {\"c\": [{\"v\": \"2018-08-13T20:26:35\"}, {\"v\": 72.94693877551018}]}, {\"c\": [{\"v\": \"2018-08-13T20:25:00\"}, {\"v\": 73.8040816326531}]}, {\"c\": [{\"v\": \"2018-08-13T20:22:50\"}, {\"v\": 74.56836734693877}]}, {\"c\": [{\"v\": \"2018-08-13T20:29:25\"}, {\"v\": 72.57040816326531}]}, {\"c\": [{\"v\": \"2018-08-13T20:29:20\"}, {\"v\": 72.46428571428572}]}, {\"c\": [{\"v\": \"2018-08-13T20:26:55\"}, {\"v\": 72.8091836734694}]}, {\"c\": [{\"v\": \"2018-08-13T20:22:25\"}, {\"v\": 74.71938775510205}]}, {\"c\": [{\"v\": \"2018-08-13T20:21:30\"}, {\"v\": 73.82653061224491}]}, {\"c\": [{\"v\": \"2018-08-13T20:26:45\"}, {\"v\": 72.82959183673469}]}, {\"c\": [{\"v\": \"2018-08-13T20:24:10\"}, {\"v\": 74.30000000000001}]}, {\"c\": [{\"v\": \"2018-08-13T20:25:10\"}, {\"v\": 73.33775510204082}]}, {\"c\": [{\"v\": \"2018-08-13T20:25:15\"}, {\"v\": 73.2489795918367}]}, {\"c\": [{\"v\": \"2018-08-13T20:24:45\"}, {\"v\": 74.06632653061223}]}, {\"c\": [{\"v\": \"2018-08-13T20:24:55\"}, {\"v\": 74.14489795918364}]}, {\"c\": [{\"v\": \"2018-08-13T20:22:05\"}, {\"v\": 73.66632653061221}]}, {\"c\": [{\"v\": \"2018-08-13T20:28:40\"}, {\"v\": 73.46632653061222}]}, {\"c\": [{\"v\": \"2018-08-13T20:24:15\"}, {\"v\": 73.99693877551022}]}, {\"c\": [{\"v\": \"2018-08-13T20:23:05\"}, {\"v\": 74.52857142857144}]}, {\"c\": [{\"v\": \"2018-08-13T20:21:25\"}, {\"v\": 73.69489795918363}]}, {\"c\": [{\"v\": \"2018-08-13T20:28:10\"}, {\"v\": 74.59591836734694}]}, {\"c\": [{\"v\": \"2018-08-13T20:29:10\"}, {\"v\": 72.39591836734697}]}, {\"c\": [{\"v\": \"2018-08-13T20:26:10\"}, {\"v\": 72.6969387755102}]}, {\"c\": [{\"v\": \"2018-08-13T20:27:40\"}, {\"v\": 74.23061224489797}]}, {\"c\": [{\"v\": \"2018-08-13T20:22:10\"}, {\"v\": 73.77142857142854}]}, {\"c\": [{\"v\": \"2018-08-13T20:26:40\"}, {\"v\": 73.00918367346941}]}, {\"c\": [{\"v\": \"2018-08-13T20:29:40\"}, {\"v\": 72.60102040816324}]}, {\"c\": [{\"v\": \"2018-08-13T20:27:35\"}, {\"v\": 74.084693877551}]}, {\"c\": [{\"v\": \"2018-08-13T20:23:15\"}, {\"v\": 74.48265306122448}]}, {\"c\": [{\"v\": \"2018-08-13T20:29:55\"}, {\"v\": 72.11836734693878}]}], \"cols\": [{\"type\": \"timestamp\", \"id\": \"time\", \"label\": \"time\"}, {\"type\": \"number\", \"id\": \"speed\", \"label\": \"speed\"}]},\n",
       "              {},\n",
       "              {\"fields\": \"time,speed\", \"source_index\": 1, \"name\": 1},\n",
       "              0,\n",
       "              107);\n",
       "          }\n",
       "        );\n",
       "    </script>\n",
       "  "
      ],
      "text/plain": [
       "<IPython.core.display.HTML object>"
      ]
     },
     "execution_count": 8,
     "metadata": {},
     "output_type": "execute_result"
    }
   ],
   "source": [
    "%%chart annotation -f time,speed -d ts2"
   ]
  },
  {
   "cell_type": "code",
   "execution_count": null,
   "metadata": {
    "collapsed": true
   },
   "outputs": [],
   "source": []
  }
 ],
 "metadata": {
  "kernelspec": {
   "display_name": "Python 2",
   "language": "python",
   "name": "python2"
  },
  "language_info": {
   "codemirror_mode": {
    "name": "ipython",
    "version": 2
   },
   "file_extension": ".py",
   "mimetype": "text/x-python",
   "name": "python",
   "nbconvert_exporter": "python",
   "pygments_lexer": "ipython2",
   "version": "2.7.15"
  }
 },
 "nbformat": 4,
 "nbformat_minor": 2
}
